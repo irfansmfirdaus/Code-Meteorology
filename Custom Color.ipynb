{
 "cells": [
  {
   "cell_type": "markdown",
   "id": "b2360e77",
   "metadata": {},
   "source": [
    "# CUSTOM COLOR\n",
    "---\n",
    "July 5th, 2023 @irfansmf\n",
    "\n",
    "---"
   ]
  },
  {
   "cell_type": "markdown",
   "id": "ea3001a6",
   "metadata": {},
   "source": [
    "### Import Module"
   ]
  },
  {
   "cell_type": "code",
   "execution_count": 2,
   "id": "c57e1366",
   "metadata": {},
   "outputs": [],
   "source": [
    "import numpy as np\n",
    "import matplotlib.pyplot as plt\n",
    "from matplotlib import cm\n",
    "from matplotlib.colors import from_levels_and_colors"
   ]
  },
  {
   "cell_type": "markdown",
   "id": "b91c302d",
   "metadata": {},
   "source": [
    "### Define Color"
   ]
  },
  {
   "cell_type": "code",
   "execution_count": 3,
   "id": "527cc5e8",
   "metadata": {},
   "outputs": [
    {
     "name": "stdout",
     "output_type": "stream",
     "text": [
      "(1.0, 0.9607843137254902, 0.9411764705882353, 1.0)\n",
      "(0.9977591036414566, 0.9137254901960784, 0.8739495798319328, 1.0)\n",
      "(0.9949579831932773, 0.857703081232493, 0.796078431372549, 1.0)\n",
      "(0.9904761904761905, 0.7747899159663865, 0.6862745098039216, 1.0)\n",
      "(0.9882352941176471, 0.6873949579831933, 0.5787114845938375, 1.0)\n",
      "(0.9882352941176471, 0.5955182072829133, 0.473389355742297, 1.0)\n",
      "(0.9865546218487395, 0.5053221288515406, 0.3798319327731093, 1.0)\n",
      "(0.984313725490196, 0.41568627450980394, 0.2901960784313726, 1.0)\n",
      "(0.957422969187675, 0.3103641456582633, 0.22296918767507004, 1.0)\n",
      "(0.9170868347338935, 0.21176470588235297, 0.16414565826330532, 1.0)\n",
      "(0.8364145658263307, 0.13333333333333347, 0.13053221288515413, 1.0)\n",
      "(0.7535014005602241, 0.08403361344537816, 0.10476190476190475, 1.0)\n",
      "(0.6683473389355743, 0.06386554621848739, 0.08683473389355742, 1.0)\n",
      "(0.5428571428571431, 0.03361344537815132, 0.0689075630252101, 1.0)\n",
      "(0.403921568627451, 0.0, 0.05098039215686274, 1.0)\n"
     ]
    }
   ],
   "source": [
    "# Define colormap\n",
    "cmap = viridis = cm.get_cmap('Reds', 15)  # --> divided by 15 segment\n",
    "dd = np.linspace(0,1,15)\n",
    "for i in dd:\n",
    "    rgba = cmap(i)\n",
    "    print(rgba)"
   ]
  },
  {
   "cell_type": "markdown",
   "id": "5d243cbd",
   "metadata": {},
   "source": [
    "( --> replace with ["
   ]
  },
  {
   "cell_type": "code",
   "execution_count": 4,
   "id": "c3d36ec4",
   "metadata": {},
   "outputs": [
    {
     "data": {
      "image/png": "[encoded data removed]",
      "text/html": [
       "<div style=\"vertical-align: middle;\"><strong>from_list</strong> </div><div class=\"cmap\"><img alt=\"from_list colormap\" title=\"from_list\" style=\"border: 1px solid #555;\" src=\"data:image/png;base64,iVBORw0KGgoAAAANSUhEUgAAAgAAAABACAYAAABsv8+/AAAAGHRFWHRUaXRsZQBmcm9tX2xpc3QgY29sb3JtYXBDL89FAAAAHnRFWHREZXNjcmlwdGlvbgBmcm9tX2xpc3QgY29sb3JtYXABtCnOAAAAMHRFWHRBdXRob3IATWF0cGxvdGxpYiB2My41LjIsIGh0dHBzOi8vbWF0cGxvdGxpYi5vcmfCWnicAAAAMnRFWHRTb2Z0d2FyZQBNYXRwbG90bGliIHYzLjUuMiwgaHR0cHM6Ly9tYXRwbG90bGliLm9yZ+z857sAAAGCSURBVHic7dbBSkJRAEXRW///kQ2STC2SEhSD1/jx5l1hr/UFZ3JgPy2Xr2U8mOXnc/aEleX8MXvCxnJ8nT1h7fBge8YYY7+bvWBled/PnrB1OMxesHLbPdb3xxjj8naePWHjdLrOnrBy/L7NnrByuP/OnrDxcr3PnrDxPHsAAPD/BAAABAkAAAgSAAAQJAAAIEgAAECQAACAIAEAAEECAACCBAAABAkAAAgSAAAQJAAAIEgAAECQAACAIAEAAEECAACCBAAABAkAAAgSAAAQJAAAIEgAAECQAACAIAEAAEECAACCBAAABAkAAAgSAAAQJAAAIEgAAECQAACAIAEAAEECAACCBAAABAkAAAgSAAAQJAAAIEgAAECQAACAIAEAAEECAACCBAAABAkAAAgSAAAQJAAAIEgAAECQAACAIAEAAEECAACCBAAABAkAAAgSAAAQJAAAIEgAAECQAACAIAEAAEECAACCBAAABAkAAAgSAAAQJAAAIEgAAECQAACAoD/fwiYi0VELiwAAAABJRU5ErkJggg==\"></div><div style=\"vertical-align: middle; max-width: 514px; display: flex; justify-content: space-between;\"><div style=\"float: left;\"><div title=\"#00000000\" style=\"display: inline-block; width: 1em; height: 1em; margin: 0; vertical-align: middle; border: 1px solid #555; background-color: #00000000;\"></div> under</div><div style=\"margin: 0 auto; display: inline-block;\">bad <div title=\"#00000000\" style=\"display: inline-block; width: 1em; height: 1em; margin: 0; vertical-align: middle; border: 1px solid #555; background-color: #00000000;\"></div></div><div style=\"float: right;\">over <div title=\"#67000dff\" style=\"display: inline-block; width: 1em; height: 1em; margin: 0; vertical-align: middle; border: 1px solid #555; background-color: #67000dff;\"></div></div>"
      ],
      "text/plain": [
       "<matplotlib.colors.ListedColormap at 0x1ec58561d00>"
      ]
     },
     "execution_count": 4,
     "metadata": {},
     "output_type": "execute_result"
    }
   ],
   "source": [
    "color_levels = np.arange(0,15,1)\n",
    "\n",
    "color_rgb = np.array([[1.0, 0.9607843137254902, 0.9411764705882353, 1.0],\n",
    "[0.9977591036414566, 0.9137254901960784, 0.8739495798319328, 1.0],\n",
    "[0.9949579831932773, 0.857703081232493, 0.796078431372549, 1.0],\n",
    "[0.9904761904761905, 0.7747899159663865, 0.6862745098039216, 1.0],\n",
    "[0.9882352941176471, 0.6873949579831933, 0.5787114845938375, 1.0],\n",
    "[0.9882352941176471, 0.5955182072829133, 0.473389355742297, 1.0],\n",
    "[0.9865546218487395, 0.5053221288515406, 0.3798319327731093, 1.0],\n",
    "[0.984313725490196, 0.41568627450980394, 0.2901960784313726, 1.0],\n",
    "[0.957422969187675, 0.3103641456582633, 0.22296918767507004, 1.0],\n",
    "[0.9170868347338935, 0.21176470588235297, 0.16414565826330532, 1.0],\n",
    "[0.8364145658263307, 0.13333333333333347, 0.13053221288515413, 1.0],\n",
    "[0.7535014005602241, 0.08403361344537816, 0.10476190476190475, 1.0],\n",
    "[0.6683473389355743, 0.06386554621848739, 0.08683473389355742, 1.0],\n",
    "[0.5428571428571431, 0.03361344537815132, 0.0689075630252101, 1.0],\n",
    "[0.403921568627451, 0.0, 0.05098039215686274, 1.0],], np.float32)\n",
    "\n",
    "color_map, color_norm = from_levels_and_colors(color_levels, color_rgb, extend=\"max\")\n",
    "color_map"
   ]
  }
 ],
 "metadata": {
  "kernelspec": {
   "display_name": "Python 3",
   "language": "python",
   "name": "python3"
  },
  "language_info": {
   "codemirror_mode": {
    "name": "ipython",
    "version": 3
   },
   "file_extension": ".py",
   "mimetype": "text/x-python",
   "name": "python",
   "nbconvert_exporter": "python",
   "pygments_lexer": "ipython3",
   "version": "3.8.8"
  }
 },
 "nbformat": 4,
 "nbformat_minor": 5
}
