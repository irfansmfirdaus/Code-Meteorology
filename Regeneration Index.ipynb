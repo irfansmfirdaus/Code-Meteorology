{
 "cells": [
  {
   "cell_type": "markdown",
   "id": "1649a5a9",
   "metadata": {},
   "source": [
    "# REGENERATION INDEX CALCULATION\n",
    "---\n",
    "July 5th, 2023 @irfansmf\n",
    "\n",
    "---"
   ]
  },
  {
   "cell_type": "markdown",
   "id": "4b48abbe",
   "metadata": {},
   "source": [
    "### Import Module"
   ]
  },
  {
   "cell_type": "code",
   "execution_count": null,
   "id": "1bbce75c",
   "metadata": {},
   "outputs": [],
   "source": [
    "import numpy as np\n",
    "import matplotlib.pyplot as plt\n",
    "import pandas as pd\n",
    "import os\n",
    "import xarray as xr\n",
    "\n",
    "from scipy.signal import find_peaks"
   ]
  },
  {
   "cell_type": "markdown",
   "id": "68626251",
   "metadata": {},
   "source": [
    "### Function RegIndex"
   ]
  },
  {
   "cell_type": "code",
   "execution_count": null,
   "id": "201ca26c",
   "metadata": {},
   "outputs": [],
   "source": [
    "# Counting peak of precipitation in one day\n",
    "def count_peak(data, beda_antar_peak):\n",
    "    pdata = {'ch':data}\n",
    "    df = pd.DataFrame(pdata)\n",
    "    \n",
    "    for i in range (len(df)):\n",
    "        if df['ch'][i] < 1:\n",
    "            df['ch'][i] = np.nan\n",
    "            \n",
    "    df['group_no'] = (np.isnan(df.ch)).cumsum()\n",
    "    df = df.dropna()\n",
    "    df_group = df.groupby('group_no')\n",
    "    df_group_keys = np.squeeze([*df_group.groups.keys()])\n",
    "\n",
    "    if len(df_group.groups) != 1:\n",
    "        aa = {}\n",
    "        ia = 0\n",
    "        i = 0\n",
    "        while i < len(df_group.groups):\n",
    "            c = df_group.get_group(df_group_keys[i])\n",
    "            j = i+1\n",
    "            f = 0\n",
    "            while (f == 0) and (j < len(df_group.groups)):\n",
    "                d = df_group.get_group(df_group_keys[j])\n",
    "                if (d.index[0] - c.index[-1]) <= beda_antar_peak:\n",
    "                    c = pd.concat([c,d])\n",
    "                    j = j+1\n",
    "                else :\n",
    "                    f = 1\n",
    "            aa[ia] = c\n",
    "            ia += 1\n",
    "            i = j\n",
    "\n",
    "    elif len(df_group.groups) == 1:\n",
    "        aa = {}\n",
    "        aa[0] = df\n",
    "       \n",
    "    return aa\n",
    "\n",
    "# Checking peak\n",
    "def check_peak(data, diff_max):\n",
    "    if len(data) >= 2:\n",
    "        for i in range (len(data)-1):\n",
    "            if (data[i+1].index[0] - data[i].index[-1]) > diff_max:  # --> Checking based on time diff between 2 peaks\n",
    "                del data[i]\n",
    "    return data"
   ]
  },
  {
   "cell_type": "markdown",
   "id": "957ed774",
   "metadata": {},
   "source": [
    "### Reg Index Calculation"
   ]
  },
  {
   "cell_type": "code",
   "execution_count": null,
   "id": "91eb8694",
   "metadata": {},
   "outputs": [],
   "source": [
    "df = pd.read_excel('Data/Precipitation Station Data.xlsx')\n",
    "df.head(5)"
   ]
  },
  {
   "cell_type": "code",
   "execution_count": null,
   "id": "1c693d51",
   "metadata": {},
   "outputs": [],
   "source": [
    "sdate = '2019-02-23 00:00'\n",
    "edate = '2019-02-24 00:00'\n",
    "\n",
    "idx1 = df[df['Time']== sdate].index.values[0]\n",
    "idx2 = df[df['Time']== edate].index.values[0]\n",
    "    \n",
    "data = df['CH'][idx1:idx2].values"
   ]
  },
  {
   "cell_type": "code",
   "execution_count": null,
   "id": "6e390945",
   "metadata": {},
   "outputs": [],
   "source": [
    "st_2 = []\n",
    "st_1 = []\n",
    "diff = [3,6,9,12,15,18]  # --> 3: 30 minutes, etc\n",
    "for k in diff:\n",
    "    print('Diff-'+str(k))\n",
    "    dff = count_peak(data, k)\n",
    "    cdff = check_peak(dff, 36)  # --> 36 is 6 hour diff between peak 1 and peak 2 (max)\n",
    "    if len(cdff) > 1:\n",
    "        st_2.append(len(cdff))\n",
    "    elif len(cdff) == 1:\n",
    "        st_1.append(len(cdff))\n",
    "    print(len(cdff))"
   ]
  },
  {
   "cell_type": "markdown",
   "id": "5dba72be",
   "metadata": {},
   "source": [
    "RegI need more than 1 station.\n",
    "\n",
    "\\begin{align}\n",
    "RegI = \\frac{\\sum Station_{peaks\\ge 2}}{\\sum Station_{peaks=1}}\n",
    "\\end{align}"
   ]
  },
  {
   "cell_type": "code",
   "execution_count": null,
   "id": "fecd22b9",
   "metadata": {},
   "outputs": [],
   "source": []
  }
 ],
 "metadata": {
  "kernelspec": {
   "display_name": "Python 3",
   "language": "python",
   "name": "python3"
  },
  "language_info": {
   "codemirror_mode": {
    "name": "ipython",
    "version": 3
   },
   "file_extension": ".py",
   "mimetype": "text/x-python",
   "name": "python",
   "nbconvert_exporter": "python",
   "pygments_lexer": "ipython3",
   "version": "3.8.8"
  }
 },
 "nbformat": 4,
 "nbformat_minor": 5
}
