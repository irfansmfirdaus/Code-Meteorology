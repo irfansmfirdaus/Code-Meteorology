{
 "cells": [
  {
   "cell_type": "markdown",
   "id": "8b567fa6",
   "metadata": {},
   "source": [
    "# SAVE TO NCFILE (XARRAY)\n",
    "---\n",
    "July 6th, 2023 @irfansmf\n",
    "\n",
    "---"
   ]
  },
  {
   "cell_type": "markdown",
   "id": "c360fdfb",
   "metadata": {},
   "source": [
    "### Import Module"
   ]
  },
  {
   "cell_type": "code",
   "execution_count": 6,
   "id": "da7bdd10",
   "metadata": {},
   "outputs": [],
   "source": [
    "# Make sure the environment is good\n",
    "import numpy as np\n",
    "from netCDF4 import Dataset\n",
    "import xarray as xr\n",
    "from wrf import getvar"
   ]
  },
  {
   "cell_type": "markdown",
   "id": "47704ff2",
   "metadata": {},
   "source": [
    "### Read File"
   ]
  },
  {
   "cell_type": "code",
   "execution_count": 8,
   "id": "5b69ebc8",
   "metadata": {},
   "outputs": [],
   "source": [
    "file_path = \"E:/TESIS/Data Processing/Output WRF (new)/kasus_03262019/wrfout_d03_2019-03-25_00_00_00\"\n",
    "\n",
    "nc = xr.open_dataset(file_path)\n",
    "wrfin = Dataset(file_path)"
   ]
  },
  {
   "cell_type": "code",
   "execution_count": 29,
   "id": "f12be892",
   "metadata": {},
   "outputs": [],
   "source": [
    "# Extract Longitude and Latitude\n",
    "lat = nc.variables['XLAT'][0,:,0].values\n",
    "lon = nc.variables['XLONG'][0,0,:].values\n",
    "\n",
    "# Extract Variable\n",
    "terrain = getvar(wrfin, \"HGT\", timeidx=1).values\n",
    "u = getvar(wrfin, \"U10\", timeidx=390+78).values\n",
    "v = getvar(wrfin, \"V10\", timeidx=390+78).values\n",
    "theta = getvar(wrfin, \"theta_e\", timeidx=390+78)[0].values\n",
    "landmask = getvar(wrfin, \"LANDMASK\", timeidx=1).values"
   ]
  },
  {
   "cell_type": "markdown",
   "id": "733a3486",
   "metadata": {},
   "source": [
    "### Save File"
   ]
  },
  {
   "cell_type": "code",
   "execution_count": 33,
   "id": "00ed74ee",
   "metadata": {},
   "outputs": [],
   "source": [
    "# Save to DataArray\n",
    "ter = xr.DataArray(name=\"terrain\", data=terrain, dims=(\"latitude\",\"longitude\"),\n",
    "                                 coords={\"latitude\":lat,\"longitude\":lon})\n",
    "ter.name = 'Terrain'\n",
    "ter.attrs['long_name'] = 'Terrain'\n",
    "ter.attrs['units'] = 'm'\n",
    "\n",
    "u_wind = xr.DataArray(name=\"u\", data=u, dims=(\"latitude\",\"longitude\"),\n",
    "                                 coords={\"latitude\":lat,\"longitude\":lon})\n",
    "u_wind.name = 'U10'\n",
    "u_wind.attrs['long_name'] = 'Zonal Wind at 10m'\n",
    "u_wind.attrs['units'] = 'm/s'\n",
    "\n",
    "v_wind = xr.DataArray(name=\"v\", data=v, dims=(\"latitude\",\"longitude\"),\n",
    "                                 coords={\"latitude\":lat,\"longitude\":lon})\n",
    "v_wind.name = 'V10'\n",
    "v_wind.attrs['long_name'] = 'Meridional Wind at 10m'\n",
    "v_wind.attrs['units'] = 'm/s'\n",
    "\n",
    "theta_e = xr.DataArray(name=\"theta_e\", data=theta, dims=(\"latitude\",\"longitude\"),\n",
    "                                 coords={\"latitude\":lat,\"longitude\":lon})\n",
    "theta_e.name = 'Theta_e'\n",
    "theta_e.attrs['long_name'] = 'Equivalent Potential Temperature at 25 m'\n",
    "theta_e.attrs['units'] = 'K'\n",
    "\n",
    "landmask = xr.DataArray(name=\"landmask\", data=landmask, dims=(\"latitude\",\"longitude\"),\n",
    "                                 coords={\"latitude\":lat,\"longitude\":lon})\n",
    "landmask.name = 'Landmask'\n",
    "landmask.attrs['long_name'] = 'Land Sea Mask'\n",
    "landmask.attrs['units'] = '-'"
   ]
  },
  {
   "cell_type": "code",
   "execution_count": 34,
   "id": "7f132cb5",
   "metadata": {},
   "outputs": [],
   "source": [
    "# Save into nc\n",
    "ds_grid = [ter, u_wind, v_wind, theta_e,landmask]\n",
    "combine = xr.combine_by_coords(ds_grid)\n",
    "combine.to_netcdf('WRF_output.nc')"
   ]
  },
  {
   "cell_type": "code",
   "execution_count": null,
   "id": "fca704ce",
   "metadata": {},
   "outputs": [],
   "source": []
  }
 ],
 "metadata": {
  "kernelspec": {
   "display_name": "Python 3",
   "language": "python",
   "name": "python3"
  },
  "language_info": {
   "codemirror_mode": {
    "name": "ipython",
    "version": 3
   },
   "file_extension": ".py",
   "mimetype": "text/x-python",
   "name": "python",
   "nbconvert_exporter": "python",
   "pygments_lexer": "ipython3",
   "version": "3.8.8"
  }
 },
 "nbformat": 4,
 "nbformat_minor": 5
}
